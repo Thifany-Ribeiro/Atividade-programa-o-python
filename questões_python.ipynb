{
 "cells": [
  {
   "cell_type": "code",
   "execution_count": 8,
   "id": "e9728996-5666-44ce-9309-5dc77cd7ed90",
   "metadata": {},
   "outputs": [
    {
     "data": {
      "text/plain": [
       "7.666666666666668"
      ]
     },
     "execution_count": 8,
     "metadata": {},
     "output_type": "execute_result"
    }
   ],
   "source": [
    "#primeira questão \n",
    "((5*(10-4)**2)/3**3+2)-1  "
   ]
  },
  {
   "cell_type": "code",
   "execution_count": 14,
   "id": "002d8837-3254-4d9a-ae4e-a303f75c0b6b",
   "metadata": {},
   "outputs": [
    {
     "name": "stdout",
     "output_type": "stream",
     "text": [
      "10.0\n"
     ]
    }
   ],
   "source": [
    "#segunda questão\n",
    "x1, y1 = 2,3\n",
    "x2, y2 = 8, 11\n",
    "\n",
    "distancia = ((x2 - x1)**2 + (y2 - y1) **2)**0.5\n",
    "print(distancia)\n"
   ]
  },
  {
   "cell_type": "code",
   "execution_count": 15,
   "id": "82046138-a800-4e5b-9471-c240e746843a",
   "metadata": {},
   "outputs": [
    {
     "name": "stdout",
     "output_type": "stream",
     "text": [
      "7.55\n"
     ]
    }
   ],
   "source": [
    "#terceira questão\n",
    "nota1 = 7.0 \n",
    "nota2 = 8.5\n",
    "nota3 = 6.0\n",
    "\n",
    "soma = (nota1 * 3 ) + ( nota2 * 5) + ( nota3 * 2) \n",
    "media = soma / 10 \n",
    "print( media) "
   ]
  },
  {
   "cell_type": "code",
   "execution_count": null,
   "id": "52bcdeb9-ca31-448e-9d06-1da347a6c1ec",
   "metadata": {},
   "outputs": [],
   "source": []
  }
 ],
 "metadata": {
  "kernelspec": {
   "display_name": "Python 3 (ipykernel)",
   "language": "python",
   "name": "python3"
  },
  "language_info": {
   "codemirror_mode": {
    "name": "ipython",
    "version": 3
   },
   "file_extension": ".py",
   "mimetype": "text/x-python",
   "name": "python",
   "nbconvert_exporter": "python",
   "pygments_lexer": "ipython3",
   "version": "3.13.5"
  }
 },
 "nbformat": 4,
 "nbformat_minor": 5
}
